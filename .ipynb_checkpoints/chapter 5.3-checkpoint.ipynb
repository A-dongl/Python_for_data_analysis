{
 "cells": [
  {
   "cell_type": "code",
   "execution_count": 1,
   "metadata": {},
   "outputs": [],
   "source": [
    "# 5.3 기술 통계 계산과 요약"
   ]
  },
  {
   "cell_type": "markdown",
   "metadata": {},
   "source": [
    "  1. axis =0: row, =1: columns\n",
    "  2. skipna -> 누락된 값을 제외할 것인가 정하는 옵션 : True 가 기본값\n",
    "  3. level : 계산하려는 축이 계측적 색인인 경우 레벨에 따라 묶어서 계산\n",
    "  \n",
    "  4. 요약 통계관련 method -> 228p"
   ]
  },
  {
   "cell_type": "code",
   "execution_count": 2,
   "metadata": {},
   "outputs": [],
   "source": [
    "# 5.3.1 상관관계와 공분산"
   ]
  },
  {
   "cell_type": "code",
   "execution_count": 3,
   "metadata": {},
   "outputs": [
    {
     "ename": "NameError",
     "evalue": "name 'data' is not defined",
     "output_type": "error",
     "traceback": [
      "\u001b[0;31m---------------------------------------------------------------------------\u001b[0m",
      "\u001b[0;31mNameError\u001b[0m                                 Traceback (most recent call last)",
      "\u001b[0;32m<ipython-input-3-53cb26fd53c7>\u001b[0m in \u001b[0;36m<module>\u001b[0;34m\u001b[0m\n\u001b[1;32m      3\u001b[0m all_data = {ticker: web.get_data_yahoo(ticker)\n\u001b[1;32m      4\u001b[0m            for ticker in ['AAPL', 'IBM', 'MSFT', 'GOOG']}\n\u001b[0;32m----> 5\u001b[0;31m price = pd.DataFrame({ticker: data['Adj Close']\n\u001b[0m\u001b[1;32m      6\u001b[0m                      for ticker, dat in all_data.items()})\n\u001b[1;32m      7\u001b[0m volume = pd.DataFrame({ticker: data['Volume']\n",
      "\u001b[0;32m<ipython-input-3-53cb26fd53c7>\u001b[0m in \u001b[0;36m<dictcomp>\u001b[0;34m(.0)\u001b[0m\n\u001b[1;32m      3\u001b[0m all_data = {ticker: web.get_data_yahoo(ticker)\n\u001b[1;32m      4\u001b[0m            for ticker in ['AAPL', 'IBM', 'MSFT', 'GOOG']}\n\u001b[0;32m----> 5\u001b[0;31m price = pd.DataFrame({ticker: data['Adj Close']\n\u001b[0m\u001b[1;32m      6\u001b[0m                      for ticker, dat in all_data.items()})\n\u001b[1;32m      7\u001b[0m volume = pd.DataFrame({ticker: data['Volume']\n",
      "\u001b[0;31mNameError\u001b[0m: name 'data' is not defined"
     ]
    }
   ],
   "source": [
    "import pandas_datareader.data as web\n",
    "import pandas as pd\n",
    "all_data = {ticker: web.get_data_yahoo(ticker)\n",
    "           for ticker in ['AAPL', 'IBM', 'MSFT', 'GOOG']}\n",
    "price = pd.DataFrame({ticker: data['Adj Close']\n",
    "                     for ticker, dat in all_data.items()})\n",
    "volume = pd.DataFrame({ticker: data['Volume']\n",
    "                      for ticker, data in all_data.items()})"
   ]
  },
  {
   "cell_type": "code",
   "execution_count": null,
   "metadata": {},
   "outputs": [],
   "source": [
    "# -> 내용을 찾을 수 없음"
   ]
  }
 ],
 "metadata": {
  "kernelspec": {
   "display_name": "Python 3",
   "language": "python",
   "name": "python3"
  },
  "language_info": {
   "codemirror_mode": {
    "name": "ipython",
    "version": 3
   },
   "file_extension": ".py",
   "mimetype": "text/x-python",
   "name": "python",
   "nbconvert_exporter": "python",
   "pygments_lexer": "ipython3",
   "version": "3.8.5"
  }
 },
 "nbformat": 4,
 "nbformat_minor": 4
}
